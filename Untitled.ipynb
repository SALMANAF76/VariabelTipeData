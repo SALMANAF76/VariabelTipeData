{
 "cells": [
  {
   "cell_type": "markdown",
   "id": "b59a4afb",
   "metadata": {},
   "source": [
    "<h1><font color=\"red\">Variabel dan Tipe Data Python</font><h1><hr>\n",
    "    <font color=\"purple\">Beberapa</font> aturan pembuatan aturan di <b>Python</b>:\n",
    "  \n",
    "    \n",
    "   \n",
    "    \n",
    "                                        "
   ]
  },
  {
   "cell_type": "markdown",
   "id": "153909ac",
   "metadata": {},
   "source": [
    "<ol>\n",
    "    <li>Bersifat case sensitif => A != a</li>\n",
    "    <li>harus diawali dengan huruf atau karakter _(underscore)</li>\n",
    "    <li>Tidak boleh menggunakan spasi</li>\n",
    "    <li>Boleh menggunakan angka</li>\n",
    "</ol>"
   ]
  },
  {
   "cell_type": "code",
   "execution_count": 10,
   "id": "f8e092b4",
   "metadata": {},
   "outputs": [
    {
     "name": "stdout",
     "output_type": "stream",
     "text": [
      "10\n",
      "100.9\n",
      "1\n",
      "True\n"
     ]
    }
   ],
   "source": [
    "data_int = 10\n",
    "data_float = 100.9\n",
    "data_string = '1'\n",
    "data_bool = True\n",
    "\n",
    "print(data_int)\n",
    "print(data_float)\n",
    "print(data_string)\n",
    "print(data_bool)\n"
   ]
  },
  {
   "cell_type": "markdown",
   "id": "982d80f3",
   "metadata": {},
   "source": [
    "untuk mengetahui tipe data dari sebuah variabel gunakan command <b>type</b>"
   ]
  },
  {
   "cell_type": "code",
   "execution_count": 15,
   "id": "8bdc7250",
   "metadata": {},
   "outputs": [
    {
     "name": "stdout",
     "output_type": "stream",
     "text": [
      "<class 'int'>\n",
      "<class 'float'>\n",
      "<class 'str'>\n",
      "<class 'bool'>\n"
     ]
    }
   ],
   "source": [
    "print(type(data_int))\n",
    "print(type(data_float))\n",
    "print(type(data_string))\n",
    "print(type(data_bool))\n"
   ]
  },
  {
   "cell_type": "markdown",
   "id": "683a8794",
   "metadata": {},
   "source": [
    "Pada Python terdapat proses <b>CASTING</b> yaitu konversi dari sebuah tipe data ke tipe data yang lain yaitu dengan sintaks <b>tipe_data(nama_variabel)"
   ]
  },
  {
   "cell_type": "code",
   "execution_count": 25,
   "id": "01a96175",
   "metadata": {},
   "outputs": [
    {
     "name": "stdout",
     "output_type": "stream",
     "text": [
      "Nilai variabel data_int= 10\n",
      "10.0\n",
      "10\n",
      "True\n"
     ]
    }
   ],
   "source": [
    "int_to_float = float(data_int)\n",
    "int_to_string = str(data_int)\n",
    "int_to_bool = bool(data_int)\n",
    "\n",
    "print('Nilai variabel data_int=',data_int)\n",
    "print(int_to_float)\n",
    "print(int_to_string)\n",
    "print(int_to_bool)"
   ]
  },
  {
   "cell_type": "code",
   "execution_count": null,
   "id": "66a14301",
   "metadata": {},
   "outputs": [],
   "source": [
    "bil1 = int(input(\"isikan bilangan 1 = \"))\n",
    "bil2 = int(input(\"isikan bilangan 2 + \"))\n",
    "hasil_tambah = bil1 + bil2\n",
    "hasil_bagi = bil1 / bil2\n",
    "print(\"hasil penjumlahan\",hasil_tambah)\n",
    "print(\"hasil pembagian\",hasil_bagi)"
   ]
  },
  {
   "cell_type": "code",
   "execution_count": null,
   "id": "a4631058",
   "metadata": {},
   "outputs": [],
   "source": []
  }
 ],
 "metadata": {
  "kernelspec": {
   "display_name": "Python 3 (ipykernel)",
   "language": "python",
   "name": "python3"
  },
  "language_info": {
   "codemirror_mode": {
    "name": "ipython",
    "version": 3
   },
   "file_extension": ".py",
   "mimetype": "text/x-python",
   "name": "python",
   "nbconvert_exporter": "python",
   "pygments_lexer": "ipython3",
   "version": "3.9.12"
  }
 },
 "nbformat": 4,
 "nbformat_minor": 5
}
